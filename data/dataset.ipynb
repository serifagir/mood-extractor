{
 "cells": [
  {
   "cell_type": "code",
   "execution_count": 4,
   "id": "b6b6e48d-fab8-462e-a6b6-80137220fa96",
   "metadata": {},
   "outputs": [],
   "source": [
    "import pandas as pd"
   ]
  },
  {
   "cell_type": "code",
   "execution_count": 17,
   "id": "aa70a6ca-ff9f-43f2-8645-970781351396",
   "metadata": {},
   "outputs": [],
   "source": [
    "training_df = pd.read_csv(\"training.csv\")\n",
    "test_df = pd.read_csv(\"test.csv\")\n",
    "validation_df = pd.read_csv(\"validation.csv\")\n",
    "\n",
    "complete_dataset_df = pd.concat([training_df, test_df, validation_df], ignore_index=True, sort=False)\n",
    "complete_dataset_df.to_csv(\"moods.csv\", index=False)"
   ]
  }
 ],
 "metadata": {
  "kernelspec": {
   "display_name": "Python 3 (ipykernel)",
   "language": "python",
   "name": "python3"
  },
  "language_info": {
   "codemirror_mode": {
    "name": "ipython",
    "version": 3
   },
   "file_extension": ".py",
   "mimetype": "text/x-python",
   "name": "python",
   "nbconvert_exporter": "python",
   "pygments_lexer": "ipython3",
   "version": "3.12.4"
  }
 },
 "nbformat": 4,
 "nbformat_minor": 5
}
