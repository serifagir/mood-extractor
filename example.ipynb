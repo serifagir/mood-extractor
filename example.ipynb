{
 "cells": [
  {
   "cell_type": "code",
   "execution_count": 14,
   "id": "948eb9de-6538-455d-a3fc-d32926ba162f",
   "metadata": {},
   "outputs": [],
   "source": [
    "import torch\n",
    "from transformers import BertTokenizer\n",
    "from sklearn.preprocessing import LabelEncoder\n",
    "import pandas as pd\n",
    "from torch.utils.data import Dataset, DataLoader\n",
    "from torch import nn\n",
    "\n",
    "df = pd.read_csv(\"data/moods.csv\")\n",
    "label_encoder = LabelEncoder()\n",
    "df['label'] = label_encoder.fit_transform(df['label'])\n",
    "\n",
    "NUM_CLASSES = len(label_encoder.classes_)\n",
    "\n",
    "class CNNModel(nn.Module):\n",
    "    def __init__(self, vocab_size, embed_size, num_classes):\n",
    "        super(CNNModel, self).__init__()\n",
    "        self.embedding = nn.Embedding(vocab_size, embed_size)\n",
    "        self.conv_layer_1 = nn.Conv2d(1, 100, (3, embed_size))\n",
    "        self.conv_layer_2 = nn.Conv2d(1, 100, (4, embed_size))\n",
    "        self.conv_layer_3 = nn.Conv2d(1, 100, (5, embed_size))\n",
    "        self.dropout = nn.Dropout(0.5)\n",
    "        self.fc = nn.Linear(300, num_classes)\n",
    "\n",
    "    def forward(self, x):\n",
    "        x = self.embedding(x).unsqueeze(1)\n",
    "\n",
    "        x1 = torch.relu(self.conv_layer_1(x)).squeeze(3)\n",
    "        x1 = torch.max_pool1d(x1, x1.size(2)).squeeze(2)\n",
    "\n",
    "        x2 = torch.relu(self.conv_layer_2(x)).squeeze(3)\n",
    "        x2 = torch.max_pool1d(x2, x2.size(2)).squeeze(2)\n",
    "\n",
    "        x3 = torch.relu(self.conv_layer_3(x)).squeeze(3)\n",
    "        x3 = torch.max_pool1d(x3, x3.size(2)).squeeze(2)\n",
    "\n",
    "        x = torch.cat((x1, x2, x3), 1)\n",
    "        x = self.dropout(x)\n",
    "\n",
    "        return self.fc(x)\n",
    "\n",
    "tokenizer = BertTokenizer.from_pretrained('bert-base-uncased')\n",
    "\n",
    "if torch.backends.mps.is_available():\n",
    "    device = \"mps\"\n",
    "elif torch.cuda.is_available():\n",
    "    device = \"cuda\"\n",
    "else:\n",
    "    device = \"cpu\"\n",
    "\n",
    "model_path = 'mood_extractor/mood_extractor_model_v1.pkl'\n",
    "model = CNNModel(len(tokenizer.vocab), 128, NUM_CLASSES)  # Use the same vocab size and embedding size\n",
    "model.load_state_dict(torch.load(model_path, map_location=device))\n",
    "model = model.to(device)\n",
    "model.eval()\n",
    "\n",
    "MAX_LEN = 128\n",
    "\n",
    "def preprocess_input(text, tokenizer, max_len):\n",
    "    encoding = tokenizer.encode_plus(\n",
    "        text,\n",
    "        add_special_tokens=True,\n",
    "        max_length=max_len,\n",
    "        return_token_type_ids=False,\n",
    "        padding='max_length',\n",
    "        return_attention_mask=True,\n",
    "        return_tensors='pt',\n",
    "    )\n",
    "    return encoding['input_ids'].flatten(), encoding['attention_mask'].flatten()\n",
    "\n",
    "def predict(text, model, tokenizer, max_len, label_encoder):\n",
    "    input_ids, attention_mask = preprocess_input(text, tokenizer, max_len)\n",
    "    input_ids = input_ids.unsqueeze(0).to(device)\n",
    "    attention_mask = attention_mask.unsqueeze(0).to(device)\n",
    "\n",
    "    with torch.no_grad():\n",
    "        outputs = model(input_ids)\n",
    "        _, preds = torch.max(outputs, dim=1)\n",
    "        predicted_label = label_encoder.inverse_transform(preds.cpu().numpy())[0]\n",
    "\n",
    "    return predicted_label"
   ]
  },
  {
   "cell_type": "code",
   "execution_count": 18,
   "id": "aba98b2f-7461-4866-8fcb-3489dba2dd15",
   "metadata": {},
   "outputs": [
    {
     "name": "stdout",
     "output_type": "stream",
     "text": [
      "Predicted label: 0\n"
     ]
    }
   ],
   "source": [
    "input_text = \"i have an exam tomorrow and i feel i will have low grade\"\n",
    "predicted_label = predict(input_text, model, tokenizer, MAX_LEN, label_encoder)\n",
    "print(f'Predicted label: {predicted_label}')"
   ]
  },
  {
   "cell_type": "code",
   "execution_count": null,
   "id": "2978b9fe-338d-4ad1-b8d1-1dbdcad6432f",
   "metadata": {},
   "outputs": [],
   "source": []
  }
 ],
 "metadata": {
  "kernelspec": {
   "display_name": "Python 3 (ipykernel)",
   "language": "python",
   "name": "python3"
  },
  "language_info": {
   "codemirror_mode": {
    "name": "ipython",
    "version": 3
   },
   "file_extension": ".py",
   "mimetype": "text/x-python",
   "name": "python",
   "nbconvert_exporter": "python",
   "pygments_lexer": "ipython3",
   "version": "3.12.0"
  }
 },
 "nbformat": 4,
 "nbformat_minor": 5
}
